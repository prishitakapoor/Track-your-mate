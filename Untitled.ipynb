{
 "cells": [
  {
   "cell_type": "code",
   "execution_count": 2,
   "metadata": {},
   "outputs": [
    {
     "name": "stdout",
     "output_type": "stream",
     "text": [
      "Enter name of the person : \n",
      "Shivansh\n",
      "(195, 62208)\n",
      "Data Saved !\n"
     ]
    }
   ],
   "source": [
    "import mxnet as mx\n",
    "from mtcnn_detector import MtcnnDetector\n",
    "import cv2\n",
    "import os\n",
    "import time\n",
    "import numpy as np\n",
    "detector = MtcnnDetector(model_folder='model', ctx=mx.cpu(0), num_worker = 4 , accurate_landmark = False)\n",
    "\n",
    "\n",
    "cam = cv2.VideoCapture(0)\n",
    "\n",
    "count=0\n",
    "face_data = []\n",
    "dataset_path = './facedata/'\n",
    "print(\"Enter name of the person : \")\n",
    "file_name = input()\n",
    "j = 0\n",
    "while True:\n",
    "    j+= 1\n",
    "    ret,img = cam.read()\n",
    "\n",
    "    #Generally use Gray Frame to save memory\n",
    "    results = detector.detect_face(img)\n",
    "\n",
    "    if results is not None:\n",
    "        total_boxes = results[0]\n",
    "        points = results[1]\n",
    "        # extract aligned face chips\n",
    "        chips = detector.extract_image_chips(img, points, 144, 0.37)\n",
    "        for i, chip in enumerate(chips):\n",
    "            cv2.imshow('chip_'+str(i), chip)\n",
    "            face_data.append(chip)\n",
    "            cv2.imwrite(file_name + str(i) + str(j) + '.jpg' , chip)\n",
    "\n",
    "    cv2.imshow(\"Image\",img)\n",
    "    key_pressed = cv2.waitKey(1) & 0xFF\n",
    "    if(key_pressed==ord('q')):\n",
    "        break\n",
    "\n",
    "#Convert facelist to numpy array\n",
    "if(len(face_data)==0):\n",
    "    print(\"No Data Collected\")\n",
    "    exit()\n",
    "face_data = np.asarray(face_data)\n",
    "face_data = face_data.reshape((face_data.shape[0],-1))\n",
    "print(face_data.shape)\n",
    "\n",
    "#Save the face data\n",
    "np.save(dataset_path+file_name+'.npy',face_data)\n",
    "print(\"Data Saved !\")\n",
    "cam.release()\n",
    "cv2.destroyAllWindows()"
   ]
  },
  {
   "cell_type": "code",
   "execution_count": null,
   "metadata": {},
   "outputs": [],
   "source": []
  }
 ],
 "metadata": {
  "kernelspec": {
   "display_name": "Python 3",
   "language": "python",
   "name": "python3"
  },
  "language_info": {
   "codemirror_mode": {
    "name": "ipython",
    "version": 3
   },
   "file_extension": ".py",
   "mimetype": "text/x-python",
   "name": "python",
   "nbconvert_exporter": "python",
   "pygments_lexer": "ipython3",
   "version": "3.6.5"
  },
  "varInspector": {
   "cols": {
    "lenName": 16,
    "lenType": 16,
    "lenVar": 40
   },
   "kernels_config": {
    "python": {
     "delete_cmd_postfix": "",
     "delete_cmd_prefix": "del ",
     "library": "var_list.py",
     "varRefreshCmd": "print(var_dic_list())"
    },
    "r": {
     "delete_cmd_postfix": ") ",
     "delete_cmd_prefix": "rm(",
     "library": "var_list.r",
     "varRefreshCmd": "cat(var_dic_list()) "
    }
   },
   "types_to_exclude": [
    "module",
    "function",
    "builtin_function_or_method",
    "instance",
    "_Feature"
   ],
   "window_display": false
  }
 },
 "nbformat": 4,
 "nbformat_minor": 2
}
